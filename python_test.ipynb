{
 "cells": [
  {
   "cell_type": "markdown",
   "metadata": {},
   "source": [
    "# 1. Load the dataset, clean the data"
   ]
  },
  {
   "cell_type": "code",
   "execution_count": 173,
   "metadata": {},
   "outputs": [
    {
     "name": "stdout",
     "output_type": "stream",
     "text": [
      "C:/Users/pinhash/Documents/python_test/android_bids_us.csv\n"
     ]
    }
   ],
   "source": [
    "import pandas as pd\n",
    "\n",
    "path = 'C:/Users/pinhash/Documents/python_test/android_bids_us.csv'\n",
    "\n",
    "print(path)"
   ]
  },
  {
   "cell_type": "code",
   "execution_count": 174,
   "metadata": {},
   "outputs": [
    {
     "data": {
      "text/plain": [
       "(10000, 12)"
      ]
     },
     "execution_count": 174,
     "metadata": {},
     "output_type": "execute_result"
    }
   ],
   "source": [
    "# counting the number of rows in the target file\n",
    "text_file_reader = pd.read_csv(path,sep=',', nrows=10000)\n",
    "\n",
    "df1 = pd.DataFrame(text_file_reader)\n",
    "df1.shape"
   ]
  },
  {
   "cell_type": "code",
   "execution_count": 175,
   "metadata": {
    "scrolled": true
   },
   "outputs": [
    {
     "data": {
      "text/html": [
       "<div>\n",
       "<style scoped>\n",
       "    .dataframe tbody tr th:only-of-type {\n",
       "        vertical-align: middle;\n",
       "    }\n",
       "\n",
       "    .dataframe tbody tr th {\n",
       "        vertical-align: top;\n",
       "    }\n",
       "\n",
       "    .dataframe thead th {\n",
       "        text-align: right;\n",
       "    }\n",
       "</style>\n",
       "<table border=\"1\" class=\"dataframe\">\n",
       "  <thead>\n",
       "    <tr style=\"text-align: right;\">\n",
       "      <th></th>\n",
       "      <th>bidid</th>\n",
       "      <th>utc_time</th>\n",
       "      <th>app_id</th>\n",
       "      <th>user_state</th>\n",
       "      <th>user_isp</th>\n",
       "      <th>device_maker</th>\n",
       "      <th>device_model</th>\n",
       "      <th>device_osv</th>\n",
       "      <th>device_height</th>\n",
       "      <th>device_width</th>\n",
       "      <th>marketplace</th>\n",
       "      <th>click</th>\n",
       "    </tr>\n",
       "  </thead>\n",
       "  <tbody>\n",
       "    <tr>\n",
       "      <th>0</th>\n",
       "      <td>87b0108c-6e9f-4783-8b80-8dd5aa3529a8</td>\n",
       "      <td>1536444331894</td>\n",
       "      <td>com.OppanaGames.CarSim</td>\n",
       "      <td>TX</td>\n",
       "      <td>AT&amp;T Wireless</td>\n",
       "      <td>NaN</td>\n",
       "      <td>NaN</td>\n",
       "      <td>7.0</td>\n",
       "      <td>720</td>\n",
       "      <td>1280</td>\n",
       "      <td>chartboost</td>\n",
       "      <td>0</td>\n",
       "    </tr>\n",
       "    <tr>\n",
       "      <th>1</th>\n",
       "      <td>9284441f-a6ea-4698-9017-86436b92d416</td>\n",
       "      <td>1536444363932</td>\n",
       "      <td>com.mobilityware.CrownSolitaire</td>\n",
       "      <td>TX</td>\n",
       "      <td>T-Mobile USA</td>\n",
       "      <td>NaN</td>\n",
       "      <td>NaN</td>\n",
       "      <td>7.0</td>\n",
       "      <td>1280</td>\n",
       "      <td>720</td>\n",
       "      <td>chartboost</td>\n",
       "      <td>0</td>\n",
       "    </tr>\n",
       "    <tr>\n",
       "      <th>2</th>\n",
       "      <td>7e4779c2-f757-4324-8c2a-138b558b5a54</td>\n",
       "      <td>1536444386908</td>\n",
       "      <td>com.kuttigames.tenkyurollball</td>\n",
       "      <td>LA</td>\n",
       "      <td>AT&amp;T Wireless</td>\n",
       "      <td>NaN</td>\n",
       "      <td>NaN</td>\n",
       "      <td>7.1.1</td>\n",
       "      <td>720</td>\n",
       "      <td>1280</td>\n",
       "      <td>chartboost</td>\n",
       "      <td>0</td>\n",
       "    </tr>\n",
       "    <tr>\n",
       "      <th>3</th>\n",
       "      <td>b64ea208-38ca-42ac-895e-0842d7352cc3</td>\n",
       "      <td>1536444405023</td>\n",
       "      <td>com.trendactionfree.call_of_sniper_duty_frontl...</td>\n",
       "      <td>TN</td>\n",
       "      <td>Comcast Cable</td>\n",
       "      <td>NaN</td>\n",
       "      <td>NaN</td>\n",
       "      <td>6.0.1</td>\n",
       "      <td>720</td>\n",
       "      <td>1280</td>\n",
       "      <td>chartboost</td>\n",
       "      <td>0</td>\n",
       "    </tr>\n",
       "    <tr>\n",
       "      <th>4</th>\n",
       "      <td>fd0c07cb-31f6-408c-9315-1cb652e76abc</td>\n",
       "      <td>1536444443458</td>\n",
       "      <td>com.landslab.my3rdgrademathgames</td>\n",
       "      <td>NC</td>\n",
       "      <td>AT&amp;T U-verse</td>\n",
       "      <td>NaN</td>\n",
       "      <td>NaN</td>\n",
       "      <td>7.1.1</td>\n",
       "      <td>1024</td>\n",
       "      <td>768</td>\n",
       "      <td>chartboost</td>\n",
       "      <td>0</td>\n",
       "    </tr>\n",
       "  </tbody>\n",
       "</table>\n",
       "</div>"
      ],
      "text/plain": [
       "                                  bidid       utc_time  \\\n",
       "0  87b0108c-6e9f-4783-8b80-8dd5aa3529a8  1536444331894   \n",
       "1  9284441f-a6ea-4698-9017-86436b92d416  1536444363932   \n",
       "2  7e4779c2-f757-4324-8c2a-138b558b5a54  1536444386908   \n",
       "3  b64ea208-38ca-42ac-895e-0842d7352cc3  1536444405023   \n",
       "4  fd0c07cb-31f6-408c-9315-1cb652e76abc  1536444443458   \n",
       "\n",
       "                                              app_id user_state  \\\n",
       "0                             com.OppanaGames.CarSim         TX   \n",
       "1                    com.mobilityware.CrownSolitaire         TX   \n",
       "2                      com.kuttigames.tenkyurollball         LA   \n",
       "3  com.trendactionfree.call_of_sniper_duty_frontl...         TN   \n",
       "4                   com.landslab.my3rdgrademathgames         NC   \n",
       "\n",
       "        user_isp device_maker device_model device_osv  device_height  \\\n",
       "0  AT&T Wireless          NaN          NaN        7.0            720   \n",
       "1   T-Mobile USA          NaN          NaN        7.0           1280   \n",
       "2  AT&T Wireless          NaN          NaN      7.1.1            720   \n",
       "3  Comcast Cable          NaN          NaN      6.0.1            720   \n",
       "4   AT&T U-verse          NaN          NaN      7.1.1           1024   \n",
       "\n",
       "   device_width marketplace  click  \n",
       "0          1280  chartboost      0  \n",
       "1           720  chartboost      0  \n",
       "2          1280  chartboost      0  \n",
       "3          1280  chartboost      0  \n",
       "4           768  chartboost      0  "
      ]
     },
     "execution_count": 175,
     "metadata": {},
     "output_type": "execute_result"
    }
   ],
   "source": [
    "df1.head()\n",
    "# we can see some feature contribue little data and we will discard them later (device maker,model)"
   ]
  },
  {
   "cell_type": "markdown",
   "metadata": {},
   "source": [
    "# 2. Explore the data (EDA)"
   ]
  },
  {
   "cell_type": "code",
   "execution_count": 176,
   "metadata": {},
   "outputs": [],
   "source": [
    "import matplotlib.pyplot as plt"
   ]
  },
  {
   "cell_type": "code",
   "execution_count": 177,
   "metadata": {},
   "outputs": [
    {
     "data": {
      "text/plain": [
       "<matplotlib.collections.PathCollection at 0x42d56fb8>"
      ]
     },
     "execution_count": 177,
     "metadata": {},
     "output_type": "execute_result"
    },
    {
     "data": {
      "image/png": "[encoded data removed]",
      "text/plain": [
       "<Figure size 432x288 with 1 Axes>"
      ]
     },
     "metadata": {
      "needs_background": "light"
     },
     "output_type": "display_data"
    }
   ],
   "source": [
    "x_data = df1['user_state']\n",
    "# y_data = df1['device_height']\n",
    "y_data = df1['marketplace']\n",
    "plt.scatter(x_data[1:100],y_data[1:100])\n",
    "# We can see that from the 1000 examoles we chose, chartboost is the only market place."
   ]
  },
  {
   "cell_type": "markdown",
   "metadata": {},
   "source": [
    "# 3. Rank existing features importance"
   ]
  },
  {
   "cell_type": "code",
   "execution_count": 178,
   "metadata": {},
   "outputs": [
    {
     "data": {
      "text/html": [
       "<div>\n",
       "<style scoped>\n",
       "    .dataframe tbody tr th:only-of-type {\n",
       "        vertical-align: middle;\n",
       "    }\n",
       "\n",
       "    .dataframe tbody tr th {\n",
       "        vertical-align: top;\n",
       "    }\n",
       "\n",
       "    .dataframe thead th {\n",
       "        text-align: right;\n",
       "    }\n",
       "</style>\n",
       "<table border=\"1\" class=\"dataframe\">\n",
       "  <thead>\n",
       "    <tr style=\"text-align: right;\">\n",
       "      <th></th>\n",
       "      <th>bidid</th>\n",
       "      <th>utc_time</th>\n",
       "      <th>app_id</th>\n",
       "      <th>user_state</th>\n",
       "      <th>user_isp</th>\n",
       "      <th>device_osv</th>\n",
       "      <th>click</th>\n",
       "    </tr>\n",
       "  </thead>\n",
       "  <tbody>\n",
       "    <tr>\n",
       "      <th>0</th>\n",
       "      <td>87b0108c-6e9f-4783-8b80-8dd5aa3529a8</td>\n",
       "      <td>1536444331894</td>\n",
       "      <td>com.OppanaGames.CarSim</td>\n",
       "      <td>TX</td>\n",
       "      <td>AT&amp;T Wireless</td>\n",
       "      <td>7.0</td>\n",
       "      <td>0</td>\n",
       "    </tr>\n",
       "    <tr>\n",
       "      <th>1</th>\n",
       "      <td>9284441f-a6ea-4698-9017-86436b92d416</td>\n",
       "      <td>1536444363932</td>\n",
       "      <td>com.mobilityware.CrownSolitaire</td>\n",
       "      <td>TX</td>\n",
       "      <td>T-Mobile USA</td>\n",
       "      <td>7.0</td>\n",
       "      <td>0</td>\n",
       "    </tr>\n",
       "    <tr>\n",
       "      <th>2</th>\n",
       "      <td>7e4779c2-f757-4324-8c2a-138b558b5a54</td>\n",
       "      <td>1536444386908</td>\n",
       "      <td>com.kuttigames.tenkyurollball</td>\n",
       "      <td>LA</td>\n",
       "      <td>AT&amp;T Wireless</td>\n",
       "      <td>7.1.1</td>\n",
       "      <td>0</td>\n",
       "    </tr>\n",
       "    <tr>\n",
       "      <th>3</th>\n",
       "      <td>b64ea208-38ca-42ac-895e-0842d7352cc3</td>\n",
       "      <td>1536444405023</td>\n",
       "      <td>com.trendactionfree.call_of_sniper_duty_frontl...</td>\n",
       "      <td>TN</td>\n",
       "      <td>Comcast Cable</td>\n",
       "      <td>6.0.1</td>\n",
       "      <td>0</td>\n",
       "    </tr>\n",
       "    <tr>\n",
       "      <th>4</th>\n",
       "      <td>fd0c07cb-31f6-408c-9315-1cb652e76abc</td>\n",
       "      <td>1536444443458</td>\n",
       "      <td>com.landslab.my3rdgrademathgames</td>\n",
       "      <td>NC</td>\n",
       "      <td>AT&amp;T U-verse</td>\n",
       "      <td>7.1.1</td>\n",
       "      <td>0</td>\n",
       "    </tr>\n",
       "  </tbody>\n",
       "</table>\n",
       "</div>"
      ],
      "text/plain": [
       "                                  bidid       utc_time  \\\n",
       "0  87b0108c-6e9f-4783-8b80-8dd5aa3529a8  1536444331894   \n",
       "1  9284441f-a6ea-4698-9017-86436b92d416  1536444363932   \n",
       "2  7e4779c2-f757-4324-8c2a-138b558b5a54  1536444386908   \n",
       "3  b64ea208-38ca-42ac-895e-0842d7352cc3  1536444405023   \n",
       "4  fd0c07cb-31f6-408c-9315-1cb652e76abc  1536444443458   \n",
       "\n",
       "                                              app_id user_state  \\\n",
       "0                             com.OppanaGames.CarSim         TX   \n",
       "1                    com.mobilityware.CrownSolitaire         TX   \n",
       "2                      com.kuttigames.tenkyurollball         LA   \n",
       "3  com.trendactionfree.call_of_sniper_duty_frontl...         TN   \n",
       "4                   com.landslab.my3rdgrademathgames         NC   \n",
       "\n",
       "        user_isp device_osv  click  \n",
       "0  AT&T Wireless        7.0      0  \n",
       "1   T-Mobile USA        7.0      0  \n",
       "2  AT&T Wireless      7.1.1      0  \n",
       "3  Comcast Cable      6.0.1      0  \n",
       "4   AT&T U-verse      7.1.1      0  "
      ]
     },
     "execution_count": 178,
     "metadata": {},
     "output_type": "execute_result"
    }
   ],
   "source": [
    "# Remove the non-contributing columns\n",
    "\n",
    "# remove columns with Nan\n",
    "df1.dropna(axis = 'columns', inplace = True)\n",
    "\n",
    "# # remove marketplace, device_height, device_width\n",
    "df1.drop(columns = ['marketplace', 'device_height', 'device_width'], inplace = True)\n",
    "df1.head()"
   ]
  },
  {
   "cell_type": "markdown",
   "metadata": {},
   "source": [
    "# 4. Engineer new features (e.g. day-of-week)"
   ]
  },
  {
   "cell_type": "markdown",
   "metadata": {},
   "source": [
    "### 4.1 date time"
   ]
  },
  {
   "cell_type": "code",
   "execution_count": 179,
   "metadata": {},
   "outputs": [],
   "source": [
    "from datetime import datetime # import libraries"
   ]
  },
  {
   "cell_type": "code",
   "execution_count": 180,
   "metadata": {},
   "outputs": [],
   "source": [
    "# Create a date drom the utc_time\n",
    "new_time = df1['utc_time']\n",
    "new_time_F = new_time/1000 # for the function: datetime.utcfromtimestamp\n",
    "\n",
    "# create new column for the date and the day of the week this date falls on\n",
    "df_temp = pd.DataFrame(columns = ['date_time','week_day'])\n",
    "\n",
    "# going over each time stamp to convert to a date time stamp 2019-8-9 ... (can it be vectorized?)\n",
    "for i in range(len(new_time_F)):\n",
    "    dt = datetime.utcfromtimestamp(new_time_F[i])\n",
    "    df_temp = df_temp.append({'date_time':dt,'week_day':dt.isoweekday()}, ignore_index=True)\n",
    "    # Iso weekday - 1 is monday 7 is sunday\n",
    "    \n",
    "# adding new columns\n",
    "df1.insert(loc = 1, column = 'date_time', value = df_temp['date_time'])\n",
    "df1.insert(loc = 1, column = 'week_day', value = df_temp['week_day'])"
   ]
  },
  {
   "cell_type": "code",
   "execution_count": 181,
   "metadata": {
    "scrolled": true
   },
   "outputs": [
    {
     "data": {
      "text/html": [
       "<div>\n",
       "<style scoped>\n",
       "    .dataframe tbody tr th:only-of-type {\n",
       "        vertical-align: middle;\n",
       "    }\n",
       "\n",
       "    .dataframe tbody tr th {\n",
       "        vertical-align: top;\n",
       "    }\n",
       "\n",
       "    .dataframe thead th {\n",
       "        text-align: right;\n",
       "    }\n",
       "</style>\n",
       "<table border=\"1\" class=\"dataframe\">\n",
       "  <thead>\n",
       "    <tr style=\"text-align: right;\">\n",
       "      <th></th>\n",
       "      <th>bidid</th>\n",
       "      <th>week_day</th>\n",
       "      <th>date_time</th>\n",
       "      <th>utc_time</th>\n",
       "      <th>app_id</th>\n",
       "      <th>user_state</th>\n",
       "      <th>user_isp</th>\n",
       "      <th>device_osv</th>\n",
       "      <th>click</th>\n",
       "    </tr>\n",
       "  </thead>\n",
       "  <tbody>\n",
       "    <tr>\n",
       "      <th>0</th>\n",
       "      <td>87b0108c-6e9f-4783-8b80-8dd5aa3529a8</td>\n",
       "      <td>6</td>\n",
       "      <td>2018-09-08 22:05:31.894</td>\n",
       "      <td>1536444331894</td>\n",
       "      <td>com.OppanaGames.CarSim</td>\n",
       "      <td>TX</td>\n",
       "      <td>AT&amp;T Wireless</td>\n",
       "      <td>7.0</td>\n",
       "      <td>0</td>\n",
       "    </tr>\n",
       "    <tr>\n",
       "      <th>1</th>\n",
       "      <td>9284441f-a6ea-4698-9017-86436b92d416</td>\n",
       "      <td>6</td>\n",
       "      <td>2018-09-08 22:06:03.932</td>\n",
       "      <td>1536444363932</td>\n",
       "      <td>com.mobilityware.CrownSolitaire</td>\n",
       "      <td>TX</td>\n",
       "      <td>T-Mobile USA</td>\n",
       "      <td>7.0</td>\n",
       "      <td>0</td>\n",
       "    </tr>\n",
       "    <tr>\n",
       "      <th>2</th>\n",
       "      <td>7e4779c2-f757-4324-8c2a-138b558b5a54</td>\n",
       "      <td>6</td>\n",
       "      <td>2018-09-08 22:06:26.908</td>\n",
       "      <td>1536444386908</td>\n",
       "      <td>com.kuttigames.tenkyurollball</td>\n",
       "      <td>LA</td>\n",
       "      <td>AT&amp;T Wireless</td>\n",
       "      <td>7.1.1</td>\n",
       "      <td>0</td>\n",
       "    </tr>\n",
       "    <tr>\n",
       "      <th>3</th>\n",
       "      <td>b64ea208-38ca-42ac-895e-0842d7352cc3</td>\n",
       "      <td>6</td>\n",
       "      <td>2018-09-08 22:06:45.023</td>\n",
       "      <td>1536444405023</td>\n",
       "      <td>com.trendactionfree.call_of_sniper_duty_frontl...</td>\n",
       "      <td>TN</td>\n",
       "      <td>Comcast Cable</td>\n",
       "      <td>6.0.1</td>\n",
       "      <td>0</td>\n",
       "    </tr>\n",
       "    <tr>\n",
       "      <th>4</th>\n",
       "      <td>fd0c07cb-31f6-408c-9315-1cb652e76abc</td>\n",
       "      <td>6</td>\n",
       "      <td>2018-09-08 22:07:23.458</td>\n",
       "      <td>1536444443458</td>\n",
       "      <td>com.landslab.my3rdgrademathgames</td>\n",
       "      <td>NC</td>\n",
       "      <td>AT&amp;T U-verse</td>\n",
       "      <td>7.1.1</td>\n",
       "      <td>0</td>\n",
       "    </tr>\n",
       "  </tbody>\n",
       "</table>\n",
       "</div>"
      ],
      "text/plain": [
       "                                  bidid week_day               date_time  \\\n",
       "0  87b0108c-6e9f-4783-8b80-8dd5aa3529a8        6 2018-09-08 22:05:31.894   \n",
       "1  9284441f-a6ea-4698-9017-86436b92d416        6 2018-09-08 22:06:03.932   \n",
       "2  7e4779c2-f757-4324-8c2a-138b558b5a54        6 2018-09-08 22:06:26.908   \n",
       "3  b64ea208-38ca-42ac-895e-0842d7352cc3        6 2018-09-08 22:06:45.023   \n",
       "4  fd0c07cb-31f6-408c-9315-1cb652e76abc        6 2018-09-08 22:07:23.458   \n",
       "\n",
       "        utc_time                                             app_id  \\\n",
       "0  1536444331894                             com.OppanaGames.CarSim   \n",
       "1  1536444363932                    com.mobilityware.CrownSolitaire   \n",
       "2  1536444386908                      com.kuttigames.tenkyurollball   \n",
       "3  1536444405023  com.trendactionfree.call_of_sniper_duty_frontl...   \n",
       "4  1536444443458                   com.landslab.my3rdgrademathgames   \n",
       "\n",
       "  user_state       user_isp device_osv  click  \n",
       "0         TX  AT&T Wireless        7.0      0  \n",
       "1         TX   T-Mobile USA        7.0      0  \n",
       "2         LA  AT&T Wireless      7.1.1      0  \n",
       "3         TN  Comcast Cable      6.0.1      0  \n",
       "4         NC   AT&T U-verse      7.1.1      0  "
      ]
     },
     "execution_count": 181,
     "metadata": {},
     "output_type": "execute_result"
    }
   ],
   "source": [
    "# presenting the improved data frame\n",
    "df1.head()"
   ]
  },
  {
   "cell_type": "markdown",
   "metadata": {},
   "source": [
    "### 4.2 Adding year, month and day columns"
   ]
  },
  {
   "cell_type": "code",
   "execution_count": 182,
   "metadata": {
    "scrolled": true
   },
   "outputs": [
    {
     "data": {
      "text/html": [
       "<div>\n",
       "<style scoped>\n",
       "    .dataframe tbody tr th:only-of-type {\n",
       "        vertical-align: middle;\n",
       "    }\n",
       "\n",
       "    .dataframe tbody tr th {\n",
       "        vertical-align: top;\n",
       "    }\n",
       "\n",
       "    .dataframe thead th {\n",
       "        text-align: right;\n",
       "    }\n",
       "</style>\n",
       "<table border=\"1\" class=\"dataframe\">\n",
       "  <thead>\n",
       "    <tr style=\"text-align: right;\">\n",
       "      <th></th>\n",
       "      <th>bidid</th>\n",
       "      <th>day</th>\n",
       "      <th>month</th>\n",
       "      <th>year</th>\n",
       "      <th>week_day</th>\n",
       "      <th>date_time</th>\n",
       "      <th>utc_time</th>\n",
       "      <th>app_id</th>\n",
       "      <th>user_state</th>\n",
       "      <th>user_isp</th>\n",
       "      <th>device_osv</th>\n",
       "      <th>click</th>\n",
       "    </tr>\n",
       "  </thead>\n",
       "  <tbody>\n",
       "    <tr>\n",
       "      <th>0</th>\n",
       "      <td>87b0108c-6e9f-4783-8b80-8dd5aa3529a8</td>\n",
       "      <td>8</td>\n",
       "      <td>9</td>\n",
       "      <td>2018</td>\n",
       "      <td>6</td>\n",
       "      <td>2018-09-08 22:05:31.894</td>\n",
       "      <td>1536444331894</td>\n",
       "      <td>com.OppanaGames.CarSim</td>\n",
       "      <td>TX</td>\n",
       "      <td>AT&amp;T Wireless</td>\n",
       "      <td>7.0</td>\n",
       "      <td>0</td>\n",
       "    </tr>\n",
       "    <tr>\n",
       "      <th>1</th>\n",
       "      <td>9284441f-a6ea-4698-9017-86436b92d416</td>\n",
       "      <td>8</td>\n",
       "      <td>9</td>\n",
       "      <td>2018</td>\n",
       "      <td>6</td>\n",
       "      <td>2018-09-08 22:06:03.932</td>\n",
       "      <td>1536444363932</td>\n",
       "      <td>com.mobilityware.CrownSolitaire</td>\n",
       "      <td>TX</td>\n",
       "      <td>T-Mobile USA</td>\n",
       "      <td>7.0</td>\n",
       "      <td>0</td>\n",
       "    </tr>\n",
       "    <tr>\n",
       "      <th>2</th>\n",
       "      <td>7e4779c2-f757-4324-8c2a-138b558b5a54</td>\n",
       "      <td>8</td>\n",
       "      <td>9</td>\n",
       "      <td>2018</td>\n",
       "      <td>6</td>\n",
       "      <td>2018-09-08 22:06:26.908</td>\n",
       "      <td>1536444386908</td>\n",
       "      <td>com.kuttigames.tenkyurollball</td>\n",
       "      <td>LA</td>\n",
       "      <td>AT&amp;T Wireless</td>\n",
       "      <td>7.1.1</td>\n",
       "      <td>0</td>\n",
       "    </tr>\n",
       "    <tr>\n",
       "      <th>3</th>\n",
       "      <td>b64ea208-38ca-42ac-895e-0842d7352cc3</td>\n",
       "      <td>8</td>\n",
       "      <td>9</td>\n",
       "      <td>2018</td>\n",
       "      <td>6</td>\n",
       "      <td>2018-09-08 22:06:45.023</td>\n",
       "      <td>1536444405023</td>\n",
       "      <td>com.trendactionfree.call_of_sniper_duty_frontl...</td>\n",
       "      <td>TN</td>\n",
       "      <td>Comcast Cable</td>\n",
       "      <td>6.0.1</td>\n",
       "      <td>0</td>\n",
       "    </tr>\n",
       "    <tr>\n",
       "      <th>4</th>\n",
       "      <td>fd0c07cb-31f6-408c-9315-1cb652e76abc</td>\n",
       "      <td>8</td>\n",
       "      <td>9</td>\n",
       "      <td>2018</td>\n",
       "      <td>6</td>\n",
       "      <td>2018-09-08 22:07:23.458</td>\n",
       "      <td>1536444443458</td>\n",
       "      <td>com.landslab.my3rdgrademathgames</td>\n",
       "      <td>NC</td>\n",
       "      <td>AT&amp;T U-verse</td>\n",
       "      <td>7.1.1</td>\n",
       "      <td>0</td>\n",
       "    </tr>\n",
       "  </tbody>\n",
       "</table>\n",
       "</div>"
      ],
      "text/plain": [
       "                                  bidid  day  month  year week_day  \\\n",
       "0  87b0108c-6e9f-4783-8b80-8dd5aa3529a8    8      9  2018        6   \n",
       "1  9284441f-a6ea-4698-9017-86436b92d416    8      9  2018        6   \n",
       "2  7e4779c2-f757-4324-8c2a-138b558b5a54    8      9  2018        6   \n",
       "3  b64ea208-38ca-42ac-895e-0842d7352cc3    8      9  2018        6   \n",
       "4  fd0c07cb-31f6-408c-9315-1cb652e76abc    8      9  2018        6   \n",
       "\n",
       "                date_time       utc_time  \\\n",
       "0 2018-09-08 22:05:31.894  1536444331894   \n",
       "1 2018-09-08 22:06:03.932  1536444363932   \n",
       "2 2018-09-08 22:06:26.908  1536444386908   \n",
       "3 2018-09-08 22:06:45.023  1536444405023   \n",
       "4 2018-09-08 22:07:23.458  1536444443458   \n",
       "\n",
       "                                              app_id user_state  \\\n",
       "0                             com.OppanaGames.CarSim         TX   \n",
       "1                    com.mobilityware.CrownSolitaire         TX   \n",
       "2                      com.kuttigames.tenkyurollball         LA   \n",
       "3  com.trendactionfree.call_of_sniper_duty_frontl...         TN   \n",
       "4                   com.landslab.my3rdgrademathgames         NC   \n",
       "\n",
       "        user_isp device_osv  click  \n",
       "0  AT&T Wireless        7.0      0  \n",
       "1   T-Mobile USA        7.0      0  \n",
       "2  AT&T Wireless      7.1.1      0  \n",
       "3  Comcast Cable      6.0.1      0  \n",
       "4   AT&T U-verse      7.1.1      0  "
      ]
     },
     "execution_count": 182,
     "metadata": {},
     "output_type": "execute_result"
    }
   ],
   "source": [
    "# turning the date time to years/months/weeks/days format\n",
    "if 'year' in df1: del df1['year']\n",
    "if 'month' in df1: del df1['month']\n",
    "if 'day' in df1: del df1['day']\n",
    "df1.insert(loc = 1, column ='year', value = df1['date_time'].dt.year)\n",
    "df1.insert(loc = 1, column ='month', value = df1['date_time'].dt.month)\n",
    "df1.insert(loc = 1, column ='day', value = df1['date_time'].dt.day)\n",
    "\n",
    "df1.head()"
   ]
  },
  {
   "cell_type": "markdown",
   "metadata": {},
   "source": [
    "# 5. Optional: Enrich the dataset with external sources (e.g. timezones, app categories)"
   ]
  },
  {
   "cell_type": "markdown",
   "metadata": {},
   "source": [
    "### 5.1 timezone"
   ]
  },
  {
   "cell_type": "code",
   "execution_count": 183,
   "metadata": {},
   "outputs": [
    {
     "data": {
      "text/plain": [
       "Timestamp('2018-09-08 22:05:31.894000-0400', tz='US/Eastern')"
      ]
     },
     "execution_count": 183,
     "metadata": {},
     "output_type": "execute_result"
    }
   ],
   "source": [
    "import pytz\n",
    "# adding time zone\n",
    "east_tz = pytz.timezone('US/eastern')\n",
    "dt_east = df1['date_time'][0]\n",
    "dt_east = east_tz.localize(dt_east)\n",
    "dt_east\n",
    "# for tz in pytz.all_timezones:\n",
    "#     print(tz)\n",
    "\n",
    "# import us  - I didn't find this module to convert state into timezone\n"
   ]
  },
  {
   "cell_type": "markdown",
   "metadata": {},
   "source": [
    "# Training"
   ]
  },
  {
   "cell_type": "code",
   "execution_count": null,
   "metadata": {},
   "outputs": [],
   "source": []
  },
  {
   "cell_type": "code",
   "execution_count": 195,
   "metadata": {},
   "outputs": [],
   "source": [
    "# adding a timezone\n",
    "from sklearn.model_selection import train_test_split\n",
    "X = df1['week_day']\n",
    "y = df1['click'] \n",
    "X_train, X_test, y_train, y_test = train_test_split(X, y, test_size=0.2, random_state=0)"
   ]
  },
  {
   "cell_type": "code",
   "execution_count": 198,
   "metadata": {},
   "outputs": [
    {
     "name": "stdout",
     "output_type": "stream",
     "text": [
      "X train shape is:  (8000,)\n",
      "X test shape is:  (2000,)\n",
      "y train shape is:  (8000,)\n",
      "y test shape is:  (2000,)\n"
     ]
    }
   ],
   "source": [
    "print('X train shape is: ', X_train.shape)\n",
    "print('X test shape is: ', X_test.shape)\n",
    "print('y train shape is: ', y_train.shape)\n",
    "print('y test shape is: ', y_test.shape)"
   ]
  },
  {
   "cell_type": "code",
   "execution_count": 214,
   "metadata": {},
   "outputs": [
    {
     "data": {
      "text/plain": [
       "<matplotlib.axes._subplots.AxesSubplot at 0x3eb9b430>"
      ]
     },
     "execution_count": 214,
     "metadata": {},
     "output_type": "execute_result"
    },
    {
     "data": {
      "image/png": "[encoded data removed]",
      "text/plain": [
       "<Figure size 432x288 with 1 Axes>"
      ]
     },
     "metadata": {
      "needs_background": "light"
     },
     "output_type": "display_data"
    }
   ],
   "source": [
    "bins1 = [0, 1, 2, 3, 4, 5, 6,7,8,9]\n",
    "# n, bins, patches = plt.hist(X_train,y_train)\n",
    "pd.Series(X_train).plot(kind='hist', bins=bins1)\n",
    "# Iso weekday - 1 is monday 7 is sunday - the highest click data (clicked and not) is from 4, that is, Thursday"
   ]
  },
  {
   "cell_type": "markdown",
   "metadata": {},
   "source": [
    "# The End"
   ]
  },
  {
   "cell_type": "code",
   "execution_count": null,
   "metadata": {},
   "outputs": [],
   "source": []
  }
 ],
 "metadata": {
  "kernelspec": {
   "display_name": "Python 3",
   "language": "python",
   "name": "python3"
  },
  "language_info": {
   "codemirror_mode": {
    "name": "ipython",
    "version": 3
   },
   "file_extension": ".py",
   "mimetype": "text/x-python",
   "name": "python",
   "nbconvert_exporter": "python",
   "pygments_lexer": "ipython3",
   "version": "3.8.3"
  }
 },
 "nbformat": 4,
 "nbformat_minor": 4
}
